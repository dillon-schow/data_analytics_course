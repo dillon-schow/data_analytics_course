{
 "cells": [
  {
   "cell_type": "code",
   "execution_count": 128,
   "metadata": {
    "collapsed": true
   },
   "outputs": [],
   "source": [
    "import json\n",
    "import pandas as pd\n",
    "import os"
   ]
  },
  {
   "cell_type": "code",
   "execution_count": 129,
   "metadata": {
    "collapsed": true
   },
   "outputs": [],
   "source": [
    "%matplotlib inline"
   ]
  },
  {
   "cell_type": "code",
   "execution_count": 130,
   "metadata": {
    "collapsed": false
   },
   "outputs": [
    {
     "data": {
      "text/plain": [
       "['.ipynb_checkpoints',\n",
       " 'pair_programming_data_parsing.ipynb',\n",
       " 'pair_programming_data_parsing_solution.ipynb',\n",
       " 'sugar_usage_america-Mine.ipynb',\n",
       " 'sugar_usage_america.ipynb',\n",
       " 'sugar_usage_table50.csv']"
      ]
     },
     "execution_count": 130,
     "metadata": {},
     "output_type": "execute_result"
    }
   ],
   "source": [
    "os.listdir()"
   ]
  },
  {
   "cell_type": "code",
   "execution_count": 131,
   "metadata": {
    "collapsed": false,
    "scrolled": true
   },
   "outputs": [
    {
     "data": {
      "text/plain": [
       "2     10.3\n",
       "3     10.5\n",
       "4     10.7\n",
       "5     11.2\n",
       "6     12.0\n",
       "7     13.1\n",
       "8     13.8\n",
       "9     14.0\n",
       "10    13.9\n",
       "11    13.8\n",
       "12    13.9\n",
       "13    13.5\n",
       "14    12.9\n",
       "15    12.9\n",
       "16    12.7\n",
       "Name: Corn-Glucose syrup, dtype: float64"
      ]
     },
     "execution_count": 131,
     "metadata": {},
     "output_type": "execute_result"
    }
   ],
   "source": [
    "df = pd.read_csv('sugar_usage_table50.csv')\n",
    "df.ix[3,'HFCS']\n",
    "#why does this round up within the table itself?\n",
    "df.iloc[2:17,4]\n",
    "#df.iloc[[2:17,4]] gives an error, why? does iloc just not have the capability?\n"
   ]
  },
  {
   "cell_type": "code",
   "execution_count": 132,
   "metadata": {
    "collapsed": false
   },
   "outputs": [
    {
     "data": {
      "text/plain": [
       "Index(['Calendar year', 'U.S. population 3/', 'Refined sugar 4/', 'HFCS',\n",
       "       'Corn-Glucose syrup', 'Corn-Dextrose', 'Corn-Total', 'Pure honey',\n",
       "       'Edible syrups', 'Total caloric sweeteners'],\n",
       "      dtype='object')"
      ]
     },
     "execution_count": 132,
     "metadata": {},
     "output_type": "execute_result"
    }
   ],
   "source": [
    "df.columns\n",
    "#df.columns.str.strip() would remove whitespace from either side of the name e.g \n",
    "#'    Calender Year' becomes 'Calender Year'"
   ]
  },
  {
   "cell_type": "code",
   "execution_count": 133,
   "metadata": {
    "collapsed": false
   },
   "outputs": [
    {
     "data": {
      "text/html": [
       "<div>\n",
       "<table border=\"1\" class=\"dataframe\">\n",
       "  <thead>\n",
       "    <tr style=\"text-align: right;\">\n",
       "      <th></th>\n",
       "      <th>calendar_year</th>\n",
       "      <th>u.s._population_3</th>\n",
       "      <th>refined_sugar_4</th>\n",
       "      <th>hfcs</th>\n",
       "      <th>corn_glucose_syrup</th>\n",
       "      <th>corn_dextrose</th>\n",
       "      <th>corn_total</th>\n",
       "      <th>pure_honey</th>\n",
       "      <th>edible_syrups</th>\n",
       "      <th>total_caloric_sweeteners</th>\n",
       "    </tr>\n",
       "  </thead>\n",
       "  <tbody>\n",
       "    <tr>\n",
       "      <th>0</th>\n",
       "      <td>1966</td>\n",
       "      <td>196.6</td>\n",
       "      <td>97.3</td>\n",
       "      <td>0.0</td>\n",
       "      <td>9.7</td>\n",
       "      <td>4.2</td>\n",
       "      <td>13.9</td>\n",
       "      <td>1.0</td>\n",
       "      <td>0.7</td>\n",
       "      <td>112.9</td>\n",
       "    </tr>\n",
       "    <tr>\n",
       "      <th>1</th>\n",
       "      <td>1967</td>\n",
       "      <td>198.7</td>\n",
       "      <td>98.5</td>\n",
       "      <td>0.0</td>\n",
       "      <td>9.9</td>\n",
       "      <td>4.3</td>\n",
       "      <td>14.2</td>\n",
       "      <td>0.9</td>\n",
       "      <td>0.5</td>\n",
       "      <td>114.2</td>\n",
       "    </tr>\n",
       "    <tr>\n",
       "      <th>2</th>\n",
       "      <td>1968</td>\n",
       "      <td>200.7</td>\n",
       "      <td>99.2</td>\n",
       "      <td>0.1</td>\n",
       "      <td>10.3</td>\n",
       "      <td>4.4</td>\n",
       "      <td>14.8</td>\n",
       "      <td>0.9</td>\n",
       "      <td>0.7</td>\n",
       "      <td>115.7</td>\n",
       "    </tr>\n",
       "    <tr>\n",
       "      <th>3</th>\n",
       "      <td>1969</td>\n",
       "      <td>201.4</td>\n",
       "      <td>101.0</td>\n",
       "      <td>0.3</td>\n",
       "      <td>10.5</td>\n",
       "      <td>4.5</td>\n",
       "      <td>15.3</td>\n",
       "      <td>1.0</td>\n",
       "      <td>0.6</td>\n",
       "      <td>117.9</td>\n",
       "    </tr>\n",
       "    <tr>\n",
       "      <th>4</th>\n",
       "      <td>1970</td>\n",
       "      <td>204.0</td>\n",
       "      <td>101.8</td>\n",
       "      <td>0.5</td>\n",
       "      <td>10.7</td>\n",
       "      <td>4.6</td>\n",
       "      <td>15.9</td>\n",
       "      <td>1.0</td>\n",
       "      <td>0.5</td>\n",
       "      <td>119.1</td>\n",
       "    </tr>\n",
       "  </tbody>\n",
       "</table>\n",
       "</div>"
      ],
      "text/plain": [
       "   calendar_year  u.s._population_3  refined_sugar_4  hfcs  \\\n",
       "0           1966              196.6             97.3   0.0   \n",
       "1           1967              198.7             98.5   0.0   \n",
       "2           1968              200.7             99.2   0.1   \n",
       "3           1969              201.4            101.0   0.3   \n",
       "4           1970              204.0            101.8   0.5   \n",
       "\n",
       "   corn_glucose_syrup  corn_dextrose  corn_total  pure_honey  edible_syrups  \\\n",
       "0                 9.7            4.2        13.9         1.0            0.7   \n",
       "1                 9.9            4.3        14.2         0.9            0.5   \n",
       "2                10.3            4.4        14.8         0.9            0.7   \n",
       "3                10.5            4.5        15.3         1.0            0.6   \n",
       "4                10.7            4.6        15.9         1.0            0.5   \n",
       "\n",
       "   total_caloric_sweeteners  \n",
       "0                     112.9  \n",
       "1                     114.2  \n",
       "2                     115.7  \n",
       "3                     117.9  \n",
       "4                     119.1  "
      ]
     },
     "execution_count": 133,
     "metadata": {},
     "output_type": "execute_result"
    }
   ],
   "source": [
    "df.columns = df.columns.str.replace(' ', '_').str.replace('/','').str.lower().str.replace('-', '_')\n",
    "#df.columns.str.replace(' ', '_', inplace = True) should work, why?\n",
    "df.head()"
   ]
  },
  {
   "cell_type": "code",
   "execution_count": 134,
   "metadata": {
    "collapsed": false
   },
   "outputs": [],
   "source": [
    "#indeces\n",
    "#df.calender_year calls the column name as well.\n",
    "#df[['HFCS']]\n",
    "#converting to a datetime gives you access to more powerful tools e.g. rolling average per\n",
    "#decade for every year, however we don't need those tools right now and the to_datetime method\n",
    "#isn't working. We can just set it to the index and work with the basic functions.\n",
    "#df.calender_year.to_datetime(format = '%Y') calling it as a method didn't work\n",
    "#calling it as a function does.\n",
    "df['calendar_year'] = pd.to_datetime(df['calendar_year'], format = '%Y')\n",
    "\n"
   ]
  },
  {
   "cell_type": "code",
   "execution_count": 135,
   "metadata": {
    "collapsed": false
   },
   "outputs": [],
   "source": [
    "#df.set_index('calendar_year') works without the square bracket, why?\n",
    "df.set_index('calendar_year', inplace=True)"
   ]
  },
  {
   "cell_type": "code",
   "execution_count": 136,
   "metadata": {
    "collapsed": false
   },
   "outputs": [
    {
     "data": {
      "text/html": [
       "<div>\n",
       "<table border=\"1\" class=\"dataframe\">\n",
       "  <thead>\n",
       "    <tr style=\"text-align: right;\">\n",
       "      <th></th>\n",
       "      <th>u.s._population_3</th>\n",
       "      <th>refined_sugar_4</th>\n",
       "      <th>hfcs</th>\n",
       "      <th>corn_glucose_syrup</th>\n",
       "      <th>corn_dextrose</th>\n",
       "      <th>corn_total</th>\n",
       "      <th>pure_honey</th>\n",
       "      <th>edible_syrups</th>\n",
       "      <th>total_caloric_sweeteners</th>\n",
       "    </tr>\n",
       "    <tr>\n",
       "      <th>calendar_year</th>\n",
       "      <th></th>\n",
       "      <th></th>\n",
       "      <th></th>\n",
       "      <th></th>\n",
       "      <th></th>\n",
       "      <th></th>\n",
       "      <th></th>\n",
       "      <th></th>\n",
       "      <th></th>\n",
       "    </tr>\n",
       "  </thead>\n",
       "  <tbody>\n",
       "    <tr>\n",
       "      <th>1966-01-01</th>\n",
       "      <td>196.6</td>\n",
       "      <td>97.3</td>\n",
       "      <td>0.0</td>\n",
       "      <td>9.7</td>\n",
       "      <td>4.2</td>\n",
       "      <td>13.9</td>\n",
       "      <td>1.0</td>\n",
       "      <td>0.7</td>\n",
       "      <td>112.9</td>\n",
       "    </tr>\n",
       "    <tr>\n",
       "      <th>1967-01-01</th>\n",
       "      <td>198.7</td>\n",
       "      <td>98.5</td>\n",
       "      <td>0.0</td>\n",
       "      <td>9.9</td>\n",
       "      <td>4.3</td>\n",
       "      <td>14.2</td>\n",
       "      <td>0.9</td>\n",
       "      <td>0.5</td>\n",
       "      <td>114.2</td>\n",
       "    </tr>\n",
       "    <tr>\n",
       "      <th>1968-01-01</th>\n",
       "      <td>200.7</td>\n",
       "      <td>99.2</td>\n",
       "      <td>0.1</td>\n",
       "      <td>10.3</td>\n",
       "      <td>4.4</td>\n",
       "      <td>14.8</td>\n",
       "      <td>0.9</td>\n",
       "      <td>0.7</td>\n",
       "      <td>115.7</td>\n",
       "    </tr>\n",
       "    <tr>\n",
       "      <th>1969-01-01</th>\n",
       "      <td>201.4</td>\n",
       "      <td>101.0</td>\n",
       "      <td>0.3</td>\n",
       "      <td>10.5</td>\n",
       "      <td>4.5</td>\n",
       "      <td>15.3</td>\n",
       "      <td>1.0</td>\n",
       "      <td>0.6</td>\n",
       "      <td>117.9</td>\n",
       "    </tr>\n",
       "    <tr>\n",
       "      <th>1970-01-01</th>\n",
       "      <td>204.0</td>\n",
       "      <td>101.8</td>\n",
       "      <td>0.5</td>\n",
       "      <td>10.7</td>\n",
       "      <td>4.6</td>\n",
       "      <td>15.9</td>\n",
       "      <td>1.0</td>\n",
       "      <td>0.5</td>\n",
       "      <td>119.1</td>\n",
       "    </tr>\n",
       "  </tbody>\n",
       "</table>\n",
       "</div>"
      ],
      "text/plain": [
       "               u.s._population_3  refined_sugar_4  hfcs  corn_glucose_syrup  \\\n",
       "calendar_year                                                                 \n",
       "1966-01-01                 196.6             97.3   0.0                 9.7   \n",
       "1967-01-01                 198.7             98.5   0.0                 9.9   \n",
       "1968-01-01                 200.7             99.2   0.1                10.3   \n",
       "1969-01-01                 201.4            101.0   0.3                10.5   \n",
       "1970-01-01                 204.0            101.8   0.5                10.7   \n",
       "\n",
       "               corn_dextrose  corn_total  pure_honey  edible_syrups  \\\n",
       "calendar_year                                                         \n",
       "1966-01-01               4.2        13.9         1.0            0.7   \n",
       "1967-01-01               4.3        14.2         0.9            0.5   \n",
       "1968-01-01               4.4        14.8         0.9            0.7   \n",
       "1969-01-01               4.5        15.3         1.0            0.6   \n",
       "1970-01-01               4.6        15.9         1.0            0.5   \n",
       "\n",
       "               total_caloric_sweeteners  \n",
       "calendar_year                            \n",
       "1966-01-01                        112.9  \n",
       "1967-01-01                        114.2  \n",
       "1968-01-01                        115.7  \n",
       "1969-01-01                        117.9  \n",
       "1970-01-01                        119.1  "
      ]
     },
     "execution_count": 136,
     "metadata": {},
     "output_type": "execute_result"
    }
   ],
   "source": [
    "df.head()"
   ]
  },
  {
   "cell_type": "code",
   "execution_count": 137,
   "metadata": {
    "collapsed": false
   },
   "outputs": [
    {
     "data": {
      "text/html": [
       "<div>\n",
       "<table border=\"1\" class=\"dataframe\">\n",
       "  <thead>\n",
       "    <tr style=\"text-align: right;\">\n",
       "      <th></th>\n",
       "      <th>u.s._population_3</th>\n",
       "      <th>refined_sugar_4</th>\n",
       "      <th>hfcs</th>\n",
       "      <th>corn_glucose_syrup</th>\n",
       "      <th>corn_dextrose</th>\n",
       "      <th>corn_total</th>\n",
       "      <th>pure_honey</th>\n",
       "      <th>edible_syrups</th>\n",
       "      <th>total_caloric_sweeteners</th>\n",
       "      <th>hfcs_percent_of_total</th>\n",
       "    </tr>\n",
       "    <tr>\n",
       "      <th>calendar_year</th>\n",
       "      <th></th>\n",
       "      <th></th>\n",
       "      <th></th>\n",
       "      <th></th>\n",
       "      <th></th>\n",
       "      <th></th>\n",
       "      <th></th>\n",
       "      <th></th>\n",
       "      <th></th>\n",
       "      <th></th>\n",
       "    </tr>\n",
       "  </thead>\n",
       "  <tbody>\n",
       "    <tr>\n",
       "      <th>1966-01-01</th>\n",
       "      <td>196.6</td>\n",
       "      <td>97.3</td>\n",
       "      <td>0.0</td>\n",
       "      <td>9.7</td>\n",
       "      <td>4.2</td>\n",
       "      <td>13.9</td>\n",
       "      <td>1.0</td>\n",
       "      <td>0.7</td>\n",
       "      <td>112.9</td>\n",
       "      <td>0.000000</td>\n",
       "    </tr>\n",
       "    <tr>\n",
       "      <th>1967-01-01</th>\n",
       "      <td>198.7</td>\n",
       "      <td>98.5</td>\n",
       "      <td>0.0</td>\n",
       "      <td>9.9</td>\n",
       "      <td>4.3</td>\n",
       "      <td>14.2</td>\n",
       "      <td>0.9</td>\n",
       "      <td>0.5</td>\n",
       "      <td>114.2</td>\n",
       "      <td>0.000000</td>\n",
       "    </tr>\n",
       "    <tr>\n",
       "      <th>1968-01-01</th>\n",
       "      <td>200.7</td>\n",
       "      <td>99.2</td>\n",
       "      <td>0.1</td>\n",
       "      <td>10.3</td>\n",
       "      <td>4.4</td>\n",
       "      <td>14.8</td>\n",
       "      <td>0.9</td>\n",
       "      <td>0.7</td>\n",
       "      <td>115.7</td>\n",
       "      <td>0.086430</td>\n",
       "    </tr>\n",
       "    <tr>\n",
       "      <th>1969-01-01</th>\n",
       "      <td>201.4</td>\n",
       "      <td>101.0</td>\n",
       "      <td>0.3</td>\n",
       "      <td>10.5</td>\n",
       "      <td>4.5</td>\n",
       "      <td>15.3</td>\n",
       "      <td>1.0</td>\n",
       "      <td>0.6</td>\n",
       "      <td>117.9</td>\n",
       "      <td>0.254453</td>\n",
       "    </tr>\n",
       "    <tr>\n",
       "      <th>1970-01-01</th>\n",
       "      <td>204.0</td>\n",
       "      <td>101.8</td>\n",
       "      <td>0.5</td>\n",
       "      <td>10.7</td>\n",
       "      <td>4.6</td>\n",
       "      <td>15.9</td>\n",
       "      <td>1.0</td>\n",
       "      <td>0.5</td>\n",
       "      <td>119.1</td>\n",
       "      <td>0.419815</td>\n",
       "    </tr>\n",
       "  </tbody>\n",
       "</table>\n",
       "</div>"
      ],
      "text/plain": [
       "               u.s._population_3  refined_sugar_4  hfcs  corn_glucose_syrup  \\\n",
       "calendar_year                                                                 \n",
       "1966-01-01                 196.6             97.3   0.0                 9.7   \n",
       "1967-01-01                 198.7             98.5   0.0                 9.9   \n",
       "1968-01-01                 200.7             99.2   0.1                10.3   \n",
       "1969-01-01                 201.4            101.0   0.3                10.5   \n",
       "1970-01-01                 204.0            101.8   0.5                10.7   \n",
       "\n",
       "               corn_dextrose  corn_total  pure_honey  edible_syrups  \\\n",
       "calendar_year                                                         \n",
       "1966-01-01               4.2        13.9         1.0            0.7   \n",
       "1967-01-01               4.3        14.2         0.9            0.5   \n",
       "1968-01-01               4.4        14.8         0.9            0.7   \n",
       "1969-01-01               4.5        15.3         1.0            0.6   \n",
       "1970-01-01               4.6        15.9         1.0            0.5   \n",
       "\n",
       "               total_caloric_sweeteners  hfcs_percent_of_total  \n",
       "calendar_year                                                   \n",
       "1966-01-01                        112.9               0.000000  \n",
       "1967-01-01                        114.2               0.000000  \n",
       "1968-01-01                        115.7               0.086430  \n",
       "1969-01-01                        117.9               0.254453  \n",
       "1970-01-01                        119.1               0.419815  "
      ]
     },
     "execution_count": 137,
     "metadata": {},
     "output_type": "execute_result"
    },
    {
     "data": {
      "image/png": "[encoded data removed]",
      "text/plain": [
       "<matplotlib.figure.Figure at 0x11d105748>"
      ]
     },
     "metadata": {},
     "output_type": "display_data"
    },
    {
     "data": {
      "image/png": "[encoded data removed]",
      "text/plain": [
       "<matplotlib.figure.Figure at 0x11ca186a0>"
      ]
     },
     "metadata": {},
     "output_type": "display_data"
    }
   ],
   "source": [
    "myplot = df['1982':'1987'].plot(y='hfcs')\n",
    "#assumes x is index if no parameter passed\n",
    "myplot.set_xlabel(\"Calendar Year\")\n",
    "df.plot(subplots=True)\n",
    "df['hfcs'].min()\n",
    "df['hfcs_percent_of_total'] = df.hfcs / df.total_caloric_sweeteners * 100.00\n",
    "#above is vectorized math. for loop could be the same thing but much more inefficient,\n",
    "#vectorized math within dataframes is clean good fun and makes the world go round.\n",
    "df.head()"
   ]
  },
  {
   "cell_type": "code",
   "execution_count": 143,
   "metadata": {
    "collapsed": false
   },
   "outputs": [
    {
     "name": "stderr",
     "output_type": "stream",
     "text": [
      "/Users/dillonschow/anaconda3/lib/python3.6/site-packages/ipykernel/__main__.py:8: SettingWithCopyWarning: \n",
      "A value is trying to be set on a copy of a slice from a DataFrame.\n",
      "Try using .loc[row_indexer,col_indexer] = value instead\n",
      "\n",
      "See the caveats in the documentation: http://pandas.pydata.org/pandas-docs/stable/indexing.html#indexing-view-versus-copy\n",
      "/Users/dillonschow/anaconda3/lib/python3.6/site-packages/ipykernel/__main__.py:9: SettingWithCopyWarning: \n",
      "A value is trying to be set on a copy of a slice from a DataFrame.\n",
      "Try using .loc[row_indexer,col_indexer] = value instead\n",
      "\n",
      "See the caveats in the documentation: http://pandas.pydata.org/pandas-docs/stable/indexing.html#indexing-view-versus-copy\n",
      "/Users/dillonschow/anaconda3/lib/python3.6/site-packages/ipykernel/__main__.py:10: SettingWithCopyWarning: \n",
      "A value is trying to be set on a copy of a slice from a DataFrame.\n",
      "Try using .loc[row_indexer,col_indexer] = value instead\n",
      "\n",
      "See the caveats in the documentation: http://pandas.pydata.org/pandas-docs/stable/indexing.html#indexing-view-versus-copy\n"
     ]
    },
    {
     "data": {
      "text/plain": [
       "<matplotlib.axes._subplots.AxesSubplot at 0x11cbfb198>"
      ]
     },
     "execution_count": 143,
     "metadata": {},
     "output_type": "execute_result"
    },
    {
     "data": {
      "image/png": "[encoded data removed]",
      "text/plain": [
       "<matplotlib.figure.Figure at 0x11caabb00>"
      ]
     },
     "metadata": {},
     "output_type": "display_data"
    }
   ],
   "source": [
    "#Binning Similar Categories\n",
    "df.iloc[0,1:8].sum()\n",
    "#checked to ensure units were constant with sum of subcategories\n",
    "#df.iloc[0,(1,5,6,7)].sum() == df.iloc[0,8] checks between subcategories and totals.\n",
    "#corn(2-4) is already binned in 5. we'll use that first. making a new data frame to start.\n",
    "df2 = df.iloc[:,2:6]\n",
    "df2.head()\n",
    "df2['hfcs_perc'] = df2.hfcs / df2.corn_total * 100\n",
    "df2['cgs_perc'] = df2.corn_glucose_syrup / df2.corn_total * 100\n",
    "df2['cd_perc'] = df2.corn_dextrose / df2.corn_total * 100\n",
    "df2 = df2.iloc[:,-4:]\n",
    "df2.head()\n",
    "myplot2 = df2.iloc[:,-3:].plot()\n",
    "myplot2"
   ]
  },
  {
   "cell_type": "code",
   "execution_count": 139,
   "metadata": {
    "collapsed": false
   },
   "outputs": [
    {
     "data": {
      "text/html": [
       "<div>\n",
       "<table border=\"1\" class=\"dataframe\">\n",
       "  <thead>\n",
       "    <tr style=\"text-align: right;\">\n",
       "      <th></th>\n",
       "      <th>refined_sugar_4</th>\n",
       "      <th>corn_total</th>\n",
       "      <th>pure_honey</th>\n",
       "      <th>edible_syrups</th>\n",
       "      <th>total_caloric_sweeteners</th>\n",
       "    </tr>\n",
       "    <tr>\n",
       "      <th>calendar_year</th>\n",
       "      <th></th>\n",
       "      <th></th>\n",
       "      <th></th>\n",
       "      <th></th>\n",
       "      <th></th>\n",
       "    </tr>\n",
       "  </thead>\n",
       "  <tbody>\n",
       "    <tr>\n",
       "      <th>1966-01-01</th>\n",
       "      <td>97.3</td>\n",
       "      <td>13.9</td>\n",
       "      <td>1.0</td>\n",
       "      <td>0.7</td>\n",
       "      <td>112.9</td>\n",
       "    </tr>\n",
       "    <tr>\n",
       "      <th>1967-01-01</th>\n",
       "      <td>98.5</td>\n",
       "      <td>14.2</td>\n",
       "      <td>0.9</td>\n",
       "      <td>0.5</td>\n",
       "      <td>114.2</td>\n",
       "    </tr>\n",
       "    <tr>\n",
       "      <th>1968-01-01</th>\n",
       "      <td>99.2</td>\n",
       "      <td>14.8</td>\n",
       "      <td>0.9</td>\n",
       "      <td>0.7</td>\n",
       "      <td>115.7</td>\n",
       "    </tr>\n",
       "    <tr>\n",
       "      <th>1969-01-01</th>\n",
       "      <td>101.0</td>\n",
       "      <td>15.3</td>\n",
       "      <td>1.0</td>\n",
       "      <td>0.6</td>\n",
       "      <td>117.9</td>\n",
       "    </tr>\n",
       "    <tr>\n",
       "      <th>1970-01-01</th>\n",
       "      <td>101.8</td>\n",
       "      <td>15.9</td>\n",
       "      <td>1.0</td>\n",
       "      <td>0.5</td>\n",
       "      <td>119.1</td>\n",
       "    </tr>\n",
       "  </tbody>\n",
       "</table>\n",
       "</div>"
      ],
      "text/plain": [
       "               refined_sugar_4  corn_total  pure_honey  edible_syrups  \\\n",
       "calendar_year                                                           \n",
       "1966-01-01                97.3        13.9         1.0            0.7   \n",
       "1967-01-01                98.5        14.2         0.9            0.5   \n",
       "1968-01-01                99.2        14.8         0.9            0.7   \n",
       "1969-01-01               101.0        15.3         1.0            0.6   \n",
       "1970-01-01               101.8        15.9         1.0            0.5   \n",
       "\n",
       "               total_caloric_sweeteners  \n",
       "calendar_year                            \n",
       "1966-01-01                        112.9  \n",
       "1967-01-01                        114.2  \n",
       "1968-01-01                        115.7  \n",
       "1969-01-01                        117.9  \n",
       "1970-01-01                        119.1  "
      ]
     },
     "execution_count": 139,
     "metadata": {},
     "output_type": "execute_result"
    }
   ],
   "source": [
    "df3 = df.iloc[:,(1,5,6,7,8)]\n",
    "df3.head()"
   ]
  },
  {
   "cell_type": "code",
   "execution_count": 142,
   "metadata": {
    "collapsed": false
   },
   "outputs": [
    {
     "name": "stderr",
     "output_type": "stream",
     "text": [
      "/Users/dillonschow/anaconda3/lib/python3.6/site-packages/ipykernel/__main__.py:1: SettingWithCopyWarning: \n",
      "A value is trying to be set on a copy of a slice from a DataFrame.\n",
      "Try using .loc[row_indexer,col_indexer] = value instead\n",
      "\n",
      "See the caveats in the documentation: http://pandas.pydata.org/pandas-docs/stable/indexing.html#indexing-view-versus-copy\n",
      "  if __name__ == '__main__':\n",
      "/Users/dillonschow/anaconda3/lib/python3.6/site-packages/ipykernel/__main__.py:2: SettingWithCopyWarning: \n",
      "A value is trying to be set on a copy of a slice from a DataFrame.\n",
      "Try using .loc[row_indexer,col_indexer] = value instead\n",
      "\n",
      "See the caveats in the documentation: http://pandas.pydata.org/pandas-docs/stable/indexing.html#indexing-view-versus-copy\n",
      "  from ipykernel import kernelapp as app\n",
      "/Users/dillonschow/anaconda3/lib/python3.6/site-packages/ipykernel/__main__.py:3: SettingWithCopyWarning: \n",
      "A value is trying to be set on a copy of a slice from a DataFrame.\n",
      "Try using .loc[row_indexer,col_indexer] = value instead\n",
      "\n",
      "See the caveats in the documentation: http://pandas.pydata.org/pandas-docs/stable/indexing.html#indexing-view-versus-copy\n",
      "  app.launch_new_instance()\n",
      "/Users/dillonschow/anaconda3/lib/python3.6/site-packages/ipykernel/__main__.py:4: SettingWithCopyWarning: \n",
      "A value is trying to be set on a copy of a slice from a DataFrame.\n",
      "Try using .loc[row_indexer,col_indexer] = value instead\n",
      "\n",
      "See the caveats in the documentation: http://pandas.pydata.org/pandas-docs/stable/indexing.html#indexing-view-versus-copy\n"
     ]
    },
    {
     "data": {
      "text/html": [
       "<div>\n",
       "<table border=\"1\" class=\"dataframe\">\n",
       "  <thead>\n",
       "    <tr style=\"text-align: right;\">\n",
       "      <th></th>\n",
       "      <th>refined_sugar_4</th>\n",
       "      <th>corn_total</th>\n",
       "      <th>pure_honey</th>\n",
       "      <th>edible_syrups</th>\n",
       "      <th>total_caloric_sweeteners</th>\n",
       "      <th>refsug_perc</th>\n",
       "      <th>corn_perc</th>\n",
       "      <th>honey_perc</th>\n",
       "      <th>syrups_perc</th>\n",
       "    </tr>\n",
       "    <tr>\n",
       "      <th>calendar_year</th>\n",
       "      <th></th>\n",
       "      <th></th>\n",
       "      <th></th>\n",
       "      <th></th>\n",
       "      <th></th>\n",
       "      <th></th>\n",
       "      <th></th>\n",
       "      <th></th>\n",
       "      <th></th>\n",
       "    </tr>\n",
       "  </thead>\n",
       "  <tbody>\n",
       "    <tr>\n",
       "      <th>1966-01-01</th>\n",
       "      <td>97.3</td>\n",
       "      <td>13.9</td>\n",
       "      <td>1.0</td>\n",
       "      <td>0.7</td>\n",
       "      <td>112.9</td>\n",
       "      <td>86.182462</td>\n",
       "      <td>12.311780</td>\n",
       "      <td>0.885740</td>\n",
       "      <td>0.620018</td>\n",
       "    </tr>\n",
       "    <tr>\n",
       "      <th>1967-01-01</th>\n",
       "      <td>98.5</td>\n",
       "      <td>14.2</td>\n",
       "      <td>0.9</td>\n",
       "      <td>0.5</td>\n",
       "      <td>114.2</td>\n",
       "      <td>86.252189</td>\n",
       "      <td>12.434326</td>\n",
       "      <td>0.788091</td>\n",
       "      <td>0.437828</td>\n",
       "    </tr>\n",
       "    <tr>\n",
       "      <th>1968-01-01</th>\n",
       "      <td>99.2</td>\n",
       "      <td>14.8</td>\n",
       "      <td>0.9</td>\n",
       "      <td>0.7</td>\n",
       "      <td>115.7</td>\n",
       "      <td>85.738980</td>\n",
       "      <td>12.791703</td>\n",
       "      <td>0.777874</td>\n",
       "      <td>0.605013</td>\n",
       "    </tr>\n",
       "    <tr>\n",
       "      <th>1969-01-01</th>\n",
       "      <td>101.0</td>\n",
       "      <td>15.3</td>\n",
       "      <td>1.0</td>\n",
       "      <td>0.6</td>\n",
       "      <td>117.9</td>\n",
       "      <td>85.665818</td>\n",
       "      <td>12.977099</td>\n",
       "      <td>0.848176</td>\n",
       "      <td>0.508906</td>\n",
       "    </tr>\n",
       "    <tr>\n",
       "      <th>1970-01-01</th>\n",
       "      <td>101.8</td>\n",
       "      <td>15.9</td>\n",
       "      <td>1.0</td>\n",
       "      <td>0.5</td>\n",
       "      <td>119.1</td>\n",
       "      <td>85.474391</td>\n",
       "      <td>13.350126</td>\n",
       "      <td>0.839631</td>\n",
       "      <td>0.419815</td>\n",
       "    </tr>\n",
       "  </tbody>\n",
       "</table>\n",
       "</div>"
      ],
      "text/plain": [
       "               refined_sugar_4  corn_total  pure_honey  edible_syrups  \\\n",
       "calendar_year                                                           \n",
       "1966-01-01                97.3        13.9         1.0            0.7   \n",
       "1967-01-01                98.5        14.2         0.9            0.5   \n",
       "1968-01-01                99.2        14.8         0.9            0.7   \n",
       "1969-01-01               101.0        15.3         1.0            0.6   \n",
       "1970-01-01               101.8        15.9         1.0            0.5   \n",
       "\n",
       "               total_caloric_sweeteners  refsug_perc  corn_perc  honey_perc  \\\n",
       "calendar_year                                                                 \n",
       "1966-01-01                        112.9    86.182462  12.311780    0.885740   \n",
       "1967-01-01                        114.2    86.252189  12.434326    0.788091   \n",
       "1968-01-01                        115.7    85.738980  12.791703    0.777874   \n",
       "1969-01-01                        117.9    85.665818  12.977099    0.848176   \n",
       "1970-01-01                        119.1    85.474391  13.350126    0.839631   \n",
       "\n",
       "               syrups_perc  \n",
       "calendar_year               \n",
       "1966-01-01        0.620018  \n",
       "1967-01-01        0.437828  \n",
       "1968-01-01        0.605013  \n",
       "1969-01-01        0.508906  \n",
       "1970-01-01        0.419815  "
      ]
     },
     "execution_count": 142,
     "metadata": {},
     "output_type": "execute_result"
    }
   ],
   "source": [
    "df3['refsug_perc'] = df3.loc[:,'refined_sugar_4'] / df3.loc[:,'total_caloric_sweeteners'] * 100\n",
    "df3['corn_perc'] = df3.loc[:,'corn_total'] / df3.loc[:,'total_caloric_sweeteners'] * 100\n",
    "df3['honey_perc'] = df3.loc[:,'pure_honey'] / df3.loc[:,'total_caloric_sweeteners'] * 100\n",
    "df3['syrups_perc'] = df3.loc[:,'edible_syrups'] / df3.loc[:,'total_caloric_sweeteners'] * 100\n",
    "df3.head()"
   ]
  },
  {
   "cell_type": "code",
   "execution_count": 144,
   "metadata": {
    "collapsed": false
   },
   "outputs": [
    {
     "data": {
      "image/png": "[encoded data removed]",
      "text/plain": [
       "<matplotlib.figure.Figure at 0x11d305908>"
      ]
     },
     "metadata": {},
     "output_type": "display_data"
    }
   ],
   "source": [
    "myoplot = df3.iloc[:,-4:].plot()"
   ]
  },
  {
   "cell_type": "code",
   "execution_count": 11,
   "metadata": {
    "collapsed": false
   },
   "outputs": [
    {
     "data": {
      "text/plain": [
       "<matplotlib.axes._subplots.AxesSubplot at 0x7f536adaa2e8>"
      ]
     },
     "execution_count": 11,
     "metadata": {},
     "output_type": "execute_result"
    },
    {
     "data": {
      "image/png": "[encoded data removed]",
      "text/plain": [
       "<matplotlib.figure.Figure at 0x7f536ad2f710>"
      ]
     },
     "metadata": {},
     "output_type": "display_data"
    }
   ],
   "source": [
    "df.plot(x='Calendar year', y='Total caloric sweeteners')"
   ]
  },
  {
   "cell_type": "code",
   "execution_count": 12,
   "metadata": {
    "collapsed": false
   },
   "outputs": [
    {
     "data": {
      "text/html": [
       "<div>\n",
       "<table border=\"1\" class=\"dataframe\">\n",
       "  <thead>\n",
       "    <tr style=\"text-align: right;\">\n",
       "      <th></th>\n",
       "      <th>Calendar year</th>\n",
       "      <th>U.S. population 3/</th>\n",
       "      <th>Refined sugar 4/</th>\n",
       "      <th>HFCS</th>\n",
       "      <th>Corn-Glucose syrup</th>\n",
       "      <th>Corn-Dextrose</th>\n",
       "      <th>Corn-Total</th>\n",
       "      <th>Pure honey</th>\n",
       "      <th>Edible syrups</th>\n",
       "      <th>Total caloric sweeteners</th>\n",
       "    </tr>\n",
       "  </thead>\n",
       "  <tbody>\n",
       "    <tr>\n",
       "      <th>Calendar year</th>\n",
       "      <td>1.000000</td>\n",
       "      <td>0.997763</td>\n",
       "      <td>-0.805074</td>\n",
       "      <td>0.832988</td>\n",
       "      <td>0.416765</td>\n",
       "      <td>-0.866450</td>\n",
       "      <td>0.811348</td>\n",
       "      <td>0.441821</td>\n",
       "      <td>0.493051</td>\n",
       "      <td>0.691736</td>\n",
       "    </tr>\n",
       "    <tr>\n",
       "      <th>U.S. population 3/</th>\n",
       "      <td>0.997763</td>\n",
       "      <td>1.000000</td>\n",
       "      <td>-0.772930</td>\n",
       "      <td>0.809498</td>\n",
       "      <td>0.390222</td>\n",
       "      <td>-0.858574</td>\n",
       "      <td>0.786961</td>\n",
       "      <td>0.467031</td>\n",
       "      <td>0.534958</td>\n",
       "      <td>0.683060</td>\n",
       "    </tr>\n",
       "    <tr>\n",
       "      <th>Refined sugar 4/</th>\n",
       "      <td>-0.805074</td>\n",
       "      <td>-0.772930</td>\n",
       "      <td>1.000000</td>\n",
       "      <td>-0.958900</td>\n",
       "      <td>-0.598244</td>\n",
       "      <td>0.757814</td>\n",
       "      <td>-0.948534</td>\n",
       "      <td>-0.102514</td>\n",
       "      <td>-0.095412</td>\n",
       "      <td>-0.717149</td>\n",
       "    </tr>\n",
       "    <tr>\n",
       "      <th>HFCS</th>\n",
       "      <td>0.832988</td>\n",
       "      <td>0.809498</td>\n",
       "      <td>-0.958900</td>\n",
       "      <td>1.000000</td>\n",
       "      <td>0.707569</td>\n",
       "      <td>-0.695033</td>\n",
       "      <td>0.997891</td>\n",
       "      <td>0.153042</td>\n",
       "      <td>0.178380</td>\n",
       "      <td>0.882794</td>\n",
       "    </tr>\n",
       "    <tr>\n",
       "      <th>Corn-Glucose syrup</th>\n",
       "      <td>0.416765</td>\n",
       "      <td>0.390222</td>\n",
       "      <td>-0.598244</td>\n",
       "      <td>0.707569</td>\n",
       "      <td>1.000000</td>\n",
       "      <td>-0.207145</td>\n",
       "      <td>0.750813</td>\n",
       "      <td>-0.096959</td>\n",
       "      <td>-0.174597</td>\n",
       "      <td>0.824911</td>\n",
       "    </tr>\n",
       "    <tr>\n",
       "      <th>Corn-Dextrose</th>\n",
       "      <td>-0.866450</td>\n",
       "      <td>-0.858574</td>\n",
       "      <td>0.757814</td>\n",
       "      <td>-0.695033</td>\n",
       "      <td>-0.207145</td>\n",
       "      <td>1.000000</td>\n",
       "      <td>-0.659685</td>\n",
       "      <td>-0.351752</td>\n",
       "      <td>-0.375505</td>\n",
       "      <td>-0.422407</td>\n",
       "    </tr>\n",
       "    <tr>\n",
       "      <th>Corn-Total</th>\n",
       "      <td>0.811348</td>\n",
       "      <td>0.786961</td>\n",
       "      <td>-0.948534</td>\n",
       "      <td>0.997891</td>\n",
       "      <td>0.750813</td>\n",
       "      <td>-0.659685</td>\n",
       "      <td>1.000000</td>\n",
       "      <td>0.131329</td>\n",
       "      <td>0.149181</td>\n",
       "      <td>0.900809</td>\n",
       "    </tr>\n",
       "    <tr>\n",
       "      <th>Pure honey</th>\n",
       "      <td>0.441821</td>\n",
       "      <td>0.467031</td>\n",
       "      <td>-0.102514</td>\n",
       "      <td>0.153042</td>\n",
       "      <td>-0.096959</td>\n",
       "      <td>-0.351752</td>\n",
       "      <td>0.131329</td>\n",
       "      <td>1.000000</td>\n",
       "      <td>0.642816</td>\n",
       "      <td>0.167282</td>\n",
       "    </tr>\n",
       "    <tr>\n",
       "      <th>Edible syrups</th>\n",
       "      <td>0.493051</td>\n",
       "      <td>0.534958</td>\n",
       "      <td>-0.095412</td>\n",
       "      <td>0.178380</td>\n",
       "      <td>-0.174597</td>\n",
       "      <td>-0.375505</td>\n",
       "      <td>0.149181</td>\n",
       "      <td>0.642816</td>\n",
       "      <td>1.000000</td>\n",
       "      <td>0.219183</td>\n",
       "    </tr>\n",
       "    <tr>\n",
       "      <th>Total caloric sweeteners</th>\n",
       "      <td>0.691736</td>\n",
       "      <td>0.683060</td>\n",
       "      <td>-0.717149</td>\n",
       "      <td>0.882794</td>\n",
       "      <td>0.824911</td>\n",
       "      <td>-0.422407</td>\n",
       "      <td>0.900809</td>\n",
       "      <td>0.167282</td>\n",
       "      <td>0.219183</td>\n",
       "      <td>1.000000</td>\n",
       "    </tr>\n",
       "  </tbody>\n",
       "</table>\n",
       "</div>"
      ],
      "text/plain": [
       "                          Calendar year  U.S. population 3/  Refined sugar 4/  \\\n",
       "Calendar year                  1.000000            0.997763         -0.805074   \n",
       "U.S. population 3/             0.997763            1.000000         -0.772930   \n",
       "Refined sugar 4/              -0.805074           -0.772930          1.000000   \n",
       "HFCS                           0.832988            0.809498         -0.958900   \n",
       "Corn-Glucose syrup             0.416765            0.390222         -0.598244   \n",
       "Corn-Dextrose                 -0.866450           -0.858574          0.757814   \n",
       "Corn-Total                     0.811348            0.786961         -0.948534   \n",
       "Pure honey                     0.441821            0.467031         -0.102514   \n",
       "Edible syrups                  0.493051            0.534958         -0.095412   \n",
       "Total caloric sweeteners       0.691736            0.683060         -0.717149   \n",
       "\n",
       "                              HFCS  Corn-Glucose syrup  Corn-Dextrose  \\\n",
       "Calendar year             0.832988            0.416765      -0.866450   \n",
       "U.S. population 3/        0.809498            0.390222      -0.858574   \n",
       "Refined sugar 4/         -0.958900           -0.598244       0.757814   \n",
       "HFCS                      1.000000            0.707569      -0.695033   \n",
       "Corn-Glucose syrup        0.707569            1.000000      -0.207145   \n",
       "Corn-Dextrose            -0.695033           -0.207145       1.000000   \n",
       "Corn-Total                0.997891            0.750813      -0.659685   \n",
       "Pure honey                0.153042           -0.096959      -0.351752   \n",
       "Edible syrups             0.178380           -0.174597      -0.375505   \n",
       "Total caloric sweeteners  0.882794            0.824911      -0.422407   \n",
       "\n",
       "                          Corn-Total  Pure honey  Edible syrups  \\\n",
       "Calendar year               0.811348    0.441821       0.493051   \n",
       "U.S. population 3/          0.786961    0.467031       0.534958   \n",
       "Refined sugar 4/           -0.948534   -0.102514      -0.095412   \n",
       "HFCS                        0.997891    0.153042       0.178380   \n",
       "Corn-Glucose syrup          0.750813   -0.096959      -0.174597   \n",
       "Corn-Dextrose              -0.659685   -0.351752      -0.375505   \n",
       "Corn-Total                  1.000000    0.131329       0.149181   \n",
       "Pure honey                  0.131329    1.000000       0.642816   \n",
       "Edible syrups               0.149181    0.642816       1.000000   \n",
       "Total caloric sweeteners    0.900809    0.167282       0.219183   \n",
       "\n",
       "                          Total caloric sweeteners  \n",
       "Calendar year                             0.691736  \n",
       "U.S. population 3/                        0.683060  \n",
       "Refined sugar 4/                         -0.717149  \n",
       "HFCS                                      0.882794  \n",
       "Corn-Glucose syrup                        0.824911  \n",
       "Corn-Dextrose                            -0.422407  \n",
       "Corn-Total                                0.900809  \n",
       "Pure honey                                0.167282  \n",
       "Edible syrups                             0.219183  \n",
       "Total caloric sweeteners                  1.000000  "
      ]
     },
     "execution_count": 12,
     "metadata": {},
     "output_type": "execute_result"
    }
   ],
   "source": [
    "df.corr()"
   ]
  },
  {
   "cell_type": "code",
   "execution_count": 14,
   "metadata": {
    "collapsed": false
   },
   "outputs": [
    {
     "data": {
      "text/plain": [
       "<matplotlib.axes._subplots.AxesSubplot at 0x7f536d1b8400>"
      ]
     },
     "execution_count": 14,
     "metadata": {},
     "output_type": "execute_result"
    },
    {
     "data": {
      "image/png": "[encoded data removed]",
      "text/plain": [
       "<matplotlib.figure.Figure at 0x7f536a9a0358>"
      ]
     },
     "metadata": {},
     "output_type": "display_data"
    }
   ],
   "source": [
    "df.plot(x='Calendar year', y='Refined sugar 4/')"
   ]
  },
  {
   "cell_type": "code",
   "execution_count": null,
   "metadata": {
    "collapsed": true
   },
   "outputs": [],
   "source": []
  }
 ],
 "metadata": {
  "anaconda-cloud": {},
  "kernelspec": {
   "display_name": "Python 3",
   "language": "python",
   "name": "python3"
  },
  "language_info": {
   "codemirror_mode": {
    "name": "ipython",
    "version": 3
   },
   "file_extension": ".py",
   "mimetype": "text/x-python",
   "name": "python",
   "nbconvert_exporter": "python",
   "pygments_lexer": "ipython3",
   "version": "3.6.0"
  }
 },
 "nbformat": 4,
 "nbformat_minor": 1
}
